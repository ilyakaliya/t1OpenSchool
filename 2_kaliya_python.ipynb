{
  "nbformat": 4,
  "nbformat_minor": 0,
  "metadata": {
    "colab": {
      "provenance": []
    },
    "kernelspec": {
      "name": "python3",
      "display_name": "Python 3"
    },
    "language_info": {
      "name": "python"
    }
  },
  "cells": [
    {
      "cell_type": "code",
      "execution_count": 1,
      "metadata": {
        "id": "nPSdPuAqMMYx"
      },
      "outputs": [],
      "source": [
        "import numpy as np\n",
        "import logging\n",
        "import time\n",
        "import math\n",
        "from functools import lru_cache\n",
        "import random"
      ]
    },
    {
      "cell_type": "markdown",
      "source": [
        "#Задание 1 - Создайте декоратор, который будет логировать вызов функции с её аргументами и результатом."
      ],
      "metadata": {
        "id": "6Q88UN2JUFE3"
      }
    },
    {
      "cell_type": "code",
      "source": [
        "logging.basicConfig(level=logging.INFO, force = True)"
      ],
      "metadata": {
        "id": "h4Vb0P3HUKKZ"
      },
      "execution_count": 33,
      "outputs": []
    },
    {
      "cell_type": "code",
      "source": [
        "def journal(func):\n",
        "\n",
        "  def inner(*args, **kwargs):\n",
        "\n",
        "    logging.info(f\"Received arguments: {', '.join(list(map(str,args)))}\")\n",
        "\n",
        "    result = func(*args,**kwargs)\n",
        "\n",
        "    logging.info(f\"Result: {result}\")\n",
        "\n",
        "    return result\n",
        "\n",
        "  return inner"
      ],
      "metadata": {
        "id": "p5vsufFnlaGP"
      },
      "execution_count": 34,
      "outputs": []
    },
    {
      "cell_type": "code",
      "source": [
        "@journal\n",
        "def addNumbers(*args):\n",
        "\n",
        "  return sum(args)\n",
        "\n",
        "addNumbers(4,6,8,3,2)"
      ],
      "metadata": {
        "colab": {
          "base_uri": "https://localhost:8080/"
        },
        "id": "KXFXSgRvmOc5",
        "outputId": "0bba5411-0fb2-41cd-c013-a04c362baf50"
      },
      "execution_count": 35,
      "outputs": [
        {
          "output_type": "stream",
          "name": "stderr",
          "text": [
            "INFO:root:Received arguments: 4, 6, 8, 3, 2\n",
            "INFO:root:Result: 23\n"
          ]
        },
        {
          "output_type": "execute_result",
          "data": {
            "text/plain": [
              "23"
            ]
          },
          "metadata": {},
          "execution_count": 35
        }
      ]
    },
    {
      "cell_type": "markdown",
      "source": [
        "#Задание 2 - Напишите декоратор, который будет кешировать результаты функции. Если функция вызывается с теми же аргументами, результат берется из кеша."
      ],
      "metadata": {
        "id": "8mbg-wcfjYsp"
      }
    },
    {
      "cell_type": "code",
      "source": [
        "def cacher(func):\n",
        "\n",
        "  # creating the dictionary for caching input values\n",
        "\n",
        "  cache = {}\n",
        "\n",
        "  def inner(*args, **kwargs):\n",
        "\n",
        "    # checking if function with input values has already been caclculated\n",
        "\n",
        "    if args in cache:\n",
        "\n",
        "      result = cache[args]\n",
        "\n",
        "      return result\n",
        "\n",
        "    # updating the cache with newly calculated values\n",
        "\n",
        "    else:\n",
        "\n",
        "      cache.update({args: func(*args)})\n",
        "\n",
        "      result = func(*args)\n",
        "\n",
        "      return result\n",
        "\n",
        "  return inner"
      ],
      "metadata": {
        "id": "emuTg3F2h878"
      },
      "execution_count": 27,
      "outputs": []
    },
    {
      "cell_type": "markdown",
      "source": [
        "##Comparing the created caching decorator with the lru_cache() from functools module:"
      ],
      "metadata": {
        "id": "8iAicNtH56er"
      }
    },
    {
      "cell_type": "code",
      "source": [
        "@cacher\n",
        "def factorial(n):\n",
        "    return n * factorial(n-1) if n else 1"
      ],
      "metadata": {
        "id": "B8nTMp4j0TMb"
      },
      "execution_count": 28,
      "outputs": []
    },
    {
      "cell_type": "code",
      "source": [
        "start = time.time()\n",
        "\n",
        "print(factorial(22))\n",
        "end = time.time()\n",
        "\n",
        "print(end - start)"
      ],
      "metadata": {
        "colab": {
          "base_uri": "https://localhost:8080/"
        },
        "id": "_W_MAUuT0ZjR",
        "outputId": "7125995f-ab9f-46ae-ba33-37a0f69dc49a"
      },
      "execution_count": 30,
      "outputs": [
        {
          "output_type": "stream",
          "name": "stdout",
          "text": [
            "1124000727777607680000\n",
            "0.0007467269897460938\n"
          ]
        }
      ]
    },
    {
      "cell_type": "code",
      "source": [
        "@lru_cache\n",
        "def factorialDefault(n):\n",
        "    return n * factorial(n-1) if n else 1"
      ],
      "metadata": {
        "id": "HSZ-cG2Y3hGD"
      },
      "execution_count": 31,
      "outputs": []
    },
    {
      "cell_type": "code",
      "source": [
        "start = time.time()\n",
        "\n",
        "print(factorialDefault(22))\n",
        "end = time.time()\n",
        "\n",
        "print(end - start)"
      ],
      "metadata": {
        "colab": {
          "base_uri": "https://localhost:8080/"
        },
        "id": "SKrr1dEO5gpt",
        "outputId": "a4cac9bd-9cdc-40f4-d72a-78c9385a87d2"
      },
      "execution_count": 32,
      "outputs": [
        {
          "output_type": "stream",
          "name": "stdout",
          "text": [
            "1124000727777607680000\n",
            "0.0017733573913574219\n"
          ]
        }
      ]
    },
    {
      "cell_type": "markdown",
      "source": [
        "#Задание 3 - Создайте два массива и выполните поэлементное сложение с использованием NumPy."
      ],
      "metadata": {
        "id": "EQLkISHajdxH"
      }
    },
    {
      "cell_type": "code",
      "source": [
        "listA = random.sample(range(0,1000), 10)\n",
        "listB = random.sample(range(0,1000), 10)\n",
        "\n",
        "result = np.add(listA,listB)\n",
        "\n",
        "print(listA, listB, result)"
      ],
      "metadata": {
        "colab": {
          "base_uri": "https://localhost:8080/"
        },
        "id": "MYR_aLHino0B",
        "outputId": "324b2949-3665-494d-8ec7-b03d4903995a"
      },
      "execution_count": 6,
      "outputs": [
        {
          "output_type": "stream",
          "name": "stdout",
          "text": [
            "[548, 806, 781, 784, 996, 476, 768, 86, 528, 726] [56, 795, 965, 961, 320, 811, 405, 459, 630, 610] [ 604 1601 1746 1745 1316 1287 1173  545 1158 1336]\n"
          ]
        }
      ]
    },
    {
      "cell_type": "markdown",
      "source": [
        "#Задание 4 - Напишите декоратор, который будет выводить время выполнения функции."
      ],
      "metadata": {
        "id": "oxwMrMP8jhgd"
      }
    },
    {
      "cell_type": "code",
      "source": [
        "def timer(func):\n",
        "\n",
        "  def inner(*args, **kwargs):\n",
        "\n",
        "      # storing time before function execution\n",
        "      start = time.time()\n",
        "\n",
        "      result = func(*args, **kwargs)\n",
        "\n",
        "      # storing time after function execution\n",
        "      end = time.time()\n",
        "\n",
        "      print(f\"Total time taken in {func.__name__}:\", end - start, \"seconds\")\n",
        "\n",
        "      return result\n",
        "\n",
        "  return inner"
      ],
      "metadata": {
        "id": "tLjtZcfLjlwY"
      },
      "execution_count": 42,
      "outputs": []
    },
    {
      "cell_type": "code",
      "source": [
        "@timer\n",
        "def addNumbers(*args):\n",
        "  print (sum(args))\n",
        "\n",
        "addNumbers(4,6,8,3,2)"
      ],
      "metadata": {
        "colab": {
          "base_uri": "https://localhost:8080/"
        },
        "id": "C1CMHp6YkAyN",
        "outputId": "000da01c-9f74-462c-fc12-7d16afaa9d1c"
      },
      "execution_count": 43,
      "outputs": [
        {
          "output_type": "stream",
          "name": "stdout",
          "text": [
            "23\n",
            "Total time taken in addNumbers: 0.0007944107055664062 seconds\n"
          ]
        }
      ]
    },
    {
      "cell_type": "code",
      "source": [
        "@timer\n",
        "def factorial(n):\n",
        "    return n * factorial(n-1) if n else 1"
      ],
      "metadata": {
        "id": "twAvoTGszndq"
      },
      "execution_count": 44,
      "outputs": []
    },
    {
      "cell_type": "code",
      "source": [
        "factorial(8)"
      ],
      "metadata": {
        "colab": {
          "base_uri": "https://localhost:8080/"
        },
        "id": "oRHhOn06zrK4",
        "outputId": "8ebfa362-c38d-4e95-ed80-e89f531ed3da"
      },
      "execution_count": 45,
      "outputs": [
        {
          "output_type": "stream",
          "name": "stdout",
          "text": [
            "Total time taken in factorial: 1.430511474609375e-06 seconds\n",
            "Total time taken in factorial: 0.00010728836059570312 seconds\n",
            "Total time taken in factorial: 0.00015401840209960938 seconds\n",
            "Total time taken in factorial: 0.00022125244140625 seconds\n",
            "Total time taken in factorial: 0.0002663135528564453 seconds\n",
            "Total time taken in factorial: 0.00031280517578125 seconds\n",
            "Total time taken in factorial: 0.00035691261291503906 seconds\n",
            "Total time taken in factorial: 0.00040984153747558594 seconds\n",
            "Total time taken in factorial: 0.00045609474182128906 seconds\n"
          ]
        },
        {
          "output_type": "execute_result",
          "data": {
            "text/plain": [
              "40320"
            ]
          },
          "metadata": {},
          "execution_count": 45
        }
      ]
    }
  ]
}